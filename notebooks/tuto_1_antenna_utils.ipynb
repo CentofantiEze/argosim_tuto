{
 "cells": [
  {
   "cell_type": "markdown",
   "metadata": {},
   "source": [
    "# Argosim tutorial - Part 1\n",
    "\n",
    "In this tutorial we will explore the `antenna_utils` module. This module is used to generate diverse radio arrays configurations, get the array's baselines, and compute the uv-sampling under different observation strategies including multi-frequency observations and source tracking."
   ]
  },
  {
   "cell_type": "code",
   "execution_count": 3,
   "metadata": {},
   "outputs": [],
   "source": [
    "# Import the argosim package\n",
    "\n"
   ]
  },
  {
   "cell_type": "markdown",
   "metadata": {},
   "source": [
    "We will import the module and explore its functionalities. The documentation of the module can be found [here](https://argos-telescope.github.io/argosim/argosim.antenna_utils.html)."
   ]
  },
  {
   "cell_type": "code",
   "execution_count": null,
   "metadata": {},
   "outputs": [],
   "source": [
    "# Import the antena_utils module and display help\n"
   ]
  },
  {
   "cell_type": "markdown",
   "metadata": {},
   "source": [
    "Identify which functions can be used to generate a radio array configuration. \n",
    "\n",
    "..."
   ]
  },
  {
   "cell_type": "markdown",
   "metadata": {},
   "source": [
    "What are the inputs of these functions and what are the default values?\n",
    "\n",
    "..."
   ]
  },
  {
   "cell_type": "markdown",
   "metadata": {},
   "source": [
    "What are the outputs of these functions?\n",
    "\n",
    "..."
   ]
  },
  {
   "cell_type": "markdown",
   "metadata": {},
   "source": [
    "Explain how the antenna arryas are parametrised.\n",
    "\n",
    "..."
   ]
  },
  {
   "cell_type": "markdown",
   "metadata": {},
   "source": [
    "Let's generate some antenna arrays configurations and plot them."
   ]
  },
  {
   "cell_type": "code",
   "execution_count": 2,
   "metadata": {},
   "outputs": [],
   "source": [
    "# Generate an array of 13 antennas located at random positions in a surface of 1 km by 1 km.\n",
    "\n"
   ]
  },
  {
   "cell_type": "code",
   "execution_count": 1,
   "metadata": {},
   "outputs": [],
   "source": [
    "# Print the antenna positions\n",
    "\n",
    "\n"
   ]
  },
  {
   "cell_type": "markdown",
   "metadata": {},
   "source": [
    "Now we will play around with the generated array using numpy."
   ]
  },
  {
   "cell_type": "code",
   "execution_count": null,
   "metadata": {},
   "outputs": [],
   "source": [
    "# Import numpy "
   ]
  },
  {
   "cell_type": "code",
   "execution_count": null,
   "metadata": {},
   "outputs": [],
   "source": [
    "# Compute the centre of the array\n",
    "\n"
   ]
  },
  {
   "cell_type": "code",
   "execution_count": null,
   "metadata": {},
   "outputs": [],
   "source": [
    "# Define a function that computes the centre of an array\n",
    "\n"
   ]
  },
  {
   "cell_type": "code",
   "execution_count": null,
   "metadata": {},
   "outputs": [],
   "source": [
    "# Compute the maximum separation between antennas.\n",
    "\n",
    "\n",
    "# Which antennas conform the maximum separation?\n",
    "\n"
   ]
  },
  {
   "cell_type": "code",
   "execution_count": null,
   "metadata": {},
   "outputs": [],
   "source": [
    "# Compute the minimum separation between antennas.\n",
    "\n",
    "\n",
    "# Which antennas conform the minimum separation?\n",
    "\n"
   ]
  },
  {
   "cell_type": "markdown",
   "metadata": {},
   "source": [
    "We will now display the antenna array in a 2D plot using `matplotlib`."
   ]
  },
  {
   "cell_type": "code",
   "execution_count": null,
   "metadata": {},
   "outputs": [],
   "source": [
    "# Import pyplot from the matplotlib library\n"
   ]
  },
  {
   "cell_type": "code",
   "execution_count": 28,
   "metadata": {},
   "outputs": [],
   "source": [
    "# Plot the antenna positions in 2D.\n",
    "# - The plot should be square with equal scales on both axes.\n",
    "# - The plot should have a title.\n",
    "# - The plot should have labels for the x and y axes (propose a label that makes sense).\n",
    "# - Display the array centre as a red cross.\n",
    "# - Connect the furthest antennas with a green line.\n",
    "# - Connect the closest antennas with a blue line.\n",
    "\n",
    "\n",
    "# To do ..."
   ]
  },
  {
   "cell_type": "markdown",
   "metadata": {},
   "source": [
    "### Antenna configurations\n",
    "\n",
    "We will now generate some antenna configurations and plot them using the `plot_utils` module."
   ]
  },
  {
   "cell_type": "code",
   "execution_count": 31,
   "metadata": {},
   "outputs": [],
   "source": [
    "# import the plot_utils module and display help.\n"
   ]
  },
  {
   "cell_type": "code",
   "execution_count": 32,
   "metadata": {},
   "outputs": [],
   "source": [
    "# Which function from the plot_utils module would you use to plot the antenna positions?\n",
    "\n",
    "# Plot the previously created array.\n",
    "\n"
   ]
  },
  {
   "cell_type": "code",
   "execution_count": null,
   "metadata": {},
   "outputs": [],
   "source": [
    "# Generate and plot the following antenna arrays:\n",
    "# - 128 antennas located at random positions in a surface of 2 km by 2 km.\n",
    "# - Y shaped array with 8 antennas per arm and an arm length of 620 m.\n",
    "# - A circular array with 33 antennas and a radius of 8000 m.\n",
    "# - (challenge) An uniformly spaced array with 32 antennas, having a minimum separation of 100 m and a maximum separation of 780 m.\n",
    "# - (have fun) A Mercedes-Benz array. Hint: use the combine_antenna_arr function from the antenna_utils module.\n"
   ]
  },
  {
   "cell_type": "markdown",
   "metadata": {},
   "source": [
    "### Load and save antenna configurations\n",
    "\n",
    "Download the `argos_pathfinder.txt` file, located in the `argosim` [GitHub repository](https://github.com/ARGOS-telescope/argosim/tree/main/configs/arrays) and save it to the `data/array_configs/` directory."
   ]
  },
  {
   "cell_type": "code",
   "execution_count": null,
   "metadata": {},
   "outputs": [],
   "source": [
    "# What does this file contain?\n",
    "\n"
   ]
  },
  {
   "cell_type": "code",
   "execution_count": null,
   "metadata": {},
   "outputs": [],
   "source": [
    "# Use the function load_antenna_enu_txt from the ant_utils module.\n",
    "\n"
   ]
  },
  {
   "cell_type": "code",
   "execution_count": null,
   "metadata": {},
   "outputs": [],
   "source": [
    "# Plot the array\n",
    "\n"
   ]
  },
  {
   "cell_type": "code",
   "execution_count": null,
   "metadata": {},
   "outputs": [],
   "source": [
    "# Propose a function to save an array to a txt file in the same format as the one loaded by load_antenna_enu_txt.\n",
    "\n"
   ]
  },
  {
   "cell_type": "code",
   "execution_count": null,
   "metadata": {},
   "outputs": [],
   "source": [
    "# Save the Mercedez Benz array to a txt file.\n",
    "\n",
    "\n"
   ]
  },
  {
   "cell_type": "markdown",
   "metadata": {},
   "source": [
    "### Baselines\n",
    "Explain what a baseline is in the context of radio interferometry.\n",
    "\n",
    "..."
   ]
  },
  {
   "cell_type": "code",
   "execution_count": null,
   "metadata": {},
   "outputs": [],
   "source": [
    "# Using the function get_baselines, compute the baselines of a Y shaped array \n",
    "# with 3 antennas per arm and an arm length of 2 km.\n",
    "\n",
    "\n"
   ]
  },
  {
   "cell_type": "code",
   "execution_count": null,
   "metadata": {},
   "outputs": [],
   "source": [
    "# Using the plot_baselines function from the plot_utils module, \n",
    "# plot the baselines of the Y shaped array setting the ENU option to True.\n",
    "\n"
   ]
  },
  {
   "cell_type": "markdown",
   "metadata": {},
   "source": [
    "What does the option `ENU=True` do in the `plot_baselines` function? We will use the option `ENU=False` in future tutorials.\n",
    "\n",
    "..."
   ]
  },
  {
   "cell_type": "markdown",
   "metadata": {},
   "source": [
    "What does each point in the plot represent?\n",
    "\n",
    "..."
   ]
  },
  {
   "cell_type": "markdown",
   "metadata": {},
   "source": [
    "What do the x and y axes represent?\n",
    "\n",
    "..."
   ]
  },
  {
   "cell_type": "code",
   "execution_count": null,
   "metadata": {},
   "outputs": [],
   "source": [
    "# How many baselines are there in total?\n",
    "\n"
   ]
  },
  {
   "cell_type": "markdown",
   "metadata": {},
   "source": [
    "How many points do you count on the baselines plot? What happened with the missing points?\n",
    "\n",
    "..."
   ]
  }
 ],
 "metadata": {
  "kernelspec": {
   "display_name": "argos",
   "language": "python",
   "name": "python3"
  },
  "language_info": {
   "codemirror_mode": {
    "name": "ipython",
    "version": 3
   },
   "file_extension": ".py",
   "mimetype": "text/x-python",
   "name": "python",
   "nbconvert_exporter": "python",
   "pygments_lexer": "ipython3",
   "version": "3.12.0"
  }
 },
 "nbformat": 4,
 "nbformat_minor": 2
}
